{
 "nbformat": 4,
 "nbformat_minor": 2,
 "metadata": {
  "language_info": {
   "name": "python",
   "codemirror_mode": {
    "name": "ipython",
    "version": 3
   }
  },
  "orig_nbformat": 2,
  "file_extension": ".py",
  "mimetype": "text/x-python",
  "name": "python",
  "npconvert_exporter": "python",
  "pygments_lexer": "ipython3",
  "version": 3
 },
 "cells": [
  {
   "cell_type": "code",
   "execution_count": null,
   "metadata": {},
   "outputs": [],
   "source": [
    "from bs4 import BeautifulSoup\n",
    "import requests\n",
    "from splinter import Browser\n",
    "from pprint import pprint\n",
    "import time\n",
    "import pandas as pd\n",
    "import re"
   ]
  },
  {
   "cell_type": "code",
   "execution_count": null,
   "metadata": {},
   "outputs": [],
   "source": [
    "executable_path = {'executable_path': '/usr/local/bin/chromedriver'}\n",
    "browser = Browser('chrome', **executable_path, headless=False)"
   ]
  },
  {
   "cell_type": "code",
   "execution_count": null,
   "metadata": {},
   "outputs": [],
   "source": [
    "nasa_news_url = \"https://mars.nasa.gov/news/\"\n",
    "browser.visit(nasa_news_url)\n",
    "\n",
    "time.sleep(5)\n",
    "html = browser.html\n",
    "soup = BeautifulSoup(html, \"html.parser\")"
   ]
  },
  {
   "cell_type": "code",
   "execution_count": null,
   "metadata": {},
   "outputs": [],
   "source": [
    "news = soup.find(\"div\", class_='list_text')\n",
    "news_title = news.find(\"div\", class_=\"content_title\").text\n",
    "news_p = news.find(\"div\", class_ =\"article_teaser_body\").text\n",
    "print(news_title)\n",
    "print(news_p)"
   ]
  },
  {
   "cell_type": "code",
   "execution_count": null,
   "metadata": {},
   "outputs": [],
   "source": [
    "jpl_image_url = \"https://www.jpl.nasa.gov/spaceimages/?search=&category=Mars\"\n",
    "browser.visit(jpl_image_url)\n",
    "time.sleep(5)\n",
    "\n",
    "\n",
    "browser.click_link_by_id(\"full_image\")\n",
    "time.sleep(5)\n",
    "\n",
    "browser.click_link_by_partial_text('more info')\n",
    "time.sleep(5)\n",
    "\n",
    "jpl_image_html = browser.html\n",
    "jpl_image_soup = BeautifulSoup(jpl_image_html, 'html.parser')"
   ]
  },
  {
   "cell_type": "code",
   "execution_count": null,
   "metadata": {},
   "outputs": [],
   "source": [
    "featured_image_urls = jpl_image_soup.find_all(\"div\", class_=\"download_tiff\")\n",
    "jpl_jpg_image = featured_image_urls[1].a.get('href')\n",
    "print(\"https:\" + jpl_jpg_image)"
   ]
  },
  {
   "cell_type": "code",
   "execution_count": null,
   "metadata": {},
   "outputs": [],
   "source": [
    "mars_weather_url = \"https://twitter.com/marswxreport?lang=en\"\n",
    "browser.visit(mars_weather_url)\n",
    "time.sleep(5)\n",
    "\n",
    "mars_weather_html = browser.html\n",
    "mars_weather_soup = BeautifulSoup(mars_weather_html, 'html.parser')"
   ]
  },
  {
   "cell_type": "code",
   "execution_count": null,
   "metadata": {},
   "outputs": [],
   "source": [
    "mars_weather_posts = mars_weather_soup.find_all(\"span\", class_=\"css-901oao css-16my406 r-1qd0xha r-ad9z0x r-bcqeeo r-qvutc0\")\n",
    "for post in mars_weather_posts:\n",
    "    if \"InSight sol\" in post.text:\n",
    "        mars_weather =post.text\n",
    "        break\n",
    "print(mars_weather)"
   ]
  },
  {
   "cell_type": "code",
   "execution_count": null,
   "metadata": {},
   "outputs": [],
   "source": [
    "mars_facts_url = \"https://space-facts.com/mars/\"\n",
    "mars_facts_df = pd.read_html(mars_facts_url, match=\"Equatorial Diameter\")\n",
    "mars_facts_df[0].to_html('mars_facts.html', header=False, index=False)"
   ]
  },
  {
   "cell_type": "code",
   "execution_count": null,
   "metadata": {},
   "outputs": [],
   "source": [
    "hemi_main_link = \"https://astrogeology.usgs.gov/search/results?q=hemisphere+enhanced&k1=target&v1=Mars\"\n",
    "browser.visit(hemi_main_link)\n",
    "time.sleep(5)\n",
    "\n",
    "hemi_main_html = browser.html\n",
    "hemi_main_soup = BeautifulSoup(hemi_main_html, 'html.parser')"
   ]
  },
  {
   "cell_type": "code",
   "execution_count": null,
   "metadata": {},
   "outputs": [],
   "source": [
    "hemi_urls = hemi_main_soup.find_all(\"div\", class_=\"description\")\n",
    "\n",
    "hemisphere_image_urls = []\n",
    "\n",
    "for hemi in hemi_urls:\n",
    "    browser.visit(\"https://astrogeology.usgs.gov\" + hemi.a.get('href'))\n",
    "    time.sleep(5)\n",
    "    \n",
    "    hemi_html = browser.html\n",
    "    hemi_soup = BeautifulSoup(hemi_html, 'html.parser')\n",
    "    \n",
    "    for link in hemi_soup.find_all('a'):\n",
    "        if link.text == \"Original\":\n",
    "            hemisphere_image_urls.append({\"title\" : re.search(\"(.*) Enhanced\",hemi_soup.find(\"h2\", class_=\"title\").text)[1], \"img_url\" : link.get('href')})\n",
    "            break\n",
    "\n",
    "print(hemisphere_image_urls)"
   ]
  }
 ]
}