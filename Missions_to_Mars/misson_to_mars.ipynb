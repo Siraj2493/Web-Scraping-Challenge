{
 "nbformat": 4,
 "nbformat_minor": 2,
 "metadata": {
  "language_info": {
   "name": "python",
   "codemirror_mode": {
    "name": "ipython",
    "version": 3
   },
   "version": "3.7.4-final"
  },
  "orig_nbformat": 2,
  "file_extension": ".py",
  "mimetype": "text/x-python",
  "name": "python",
  "npconvert_exporter": "python",
  "pygments_lexer": "ipython3",
  "version": 3,
  "kernelspec": {
   "name": "python37464bitbasecondae1a540739375406c8124128569af8a2e",
   "display_name": "Python 3.7.4 64-bit ('base': conda)"
  }
 },
 "cells": [
  {
   "cell_type": "code",
   "execution_count": 12,
   "metadata": {},
   "outputs": [
    {
     "output_type": "stream",
     "name": "stdout",
     "text": "Collecting splinter\n  Downloading https://files.pythonhosted.org/packages/d1/46/bb01079ef246d61c2432420c6cd63ecb11e0e909a5da42abcb407e0fb4e2/splinter-0.13.0.tar.gz\nCollecting selenium>=3.141.0 (from splinter)\n  Downloading https://files.pythonhosted.org/packages/80/d6/4294f0b4bce4de0abf13e17190289f9d0613b0a44e5dd6a7f5ca98459853/selenium-3.141.0-py2.py3-none-any.whl (904kB)\nRequirement already satisfied: six in c:\\users\\siraj\\documents\\conda\\lib\\site-packages (from splinter) (1.12.0)\nRequirement already satisfied: urllib3 in c:\\users\\siraj\\documents\\conda\\lib\\site-packages (from selenium>=3.141.0->splinter) (1.24.2)\nBuilding wheels for collected packages: splinter\n  Building wheel for splinter (setup.py): started\n  Building wheel for splinter (setup.py): finished with status 'done'\n  Created wheel for splinter: filename=splinter-0.13.0-cp37-none-any.whl size=33309 sha256=53536466a6ab44451bf821f1f223a4e6b7a75d3e5dccb6936d3a3873a4890b69\n  Stored in directory: C:\\Users\\siraj\\AppData\\Local\\pip\\Cache\\wheels\\fd\\ff\\26\\2fc56897bcbe58908bbb2002c53affb516e5e6daa425aefdef\nSuccessfully built splinter\nInstalling collected packages: selenium, splinter\nSuccessfully installed selenium-3.141.0 splinter-0.13.0\nNote: you may need to restart the kernel to use updated packages.\n"
    }
   ],
   "source": [
    "pip install splinter"
   ]
  },
  {
   "cell_type": "code",
   "execution_count": 15,
   "metadata": {},
   "outputs": [],
   "source": [
    "from bs4 import BeautifulSoup\n",
    "import requests\n",
    "from splinter import Browser\n",
    "from pprint import pprint\n",
    "import time\n",
    "import pandas as pd\n",
    "import re"
   ]
  },
  {
   "cell_type": "code",
   "execution_count": 14,
   "metadata": {},
   "outputs": [
    {
     "output_type": "error",
     "ename": "UnboundLocalError",
     "evalue": "local variable 'e' referenced before assignment",
     "traceback": [
      "\u001b[1;31m---------------------------------------------------------------------------\u001b[0m",
      "\u001b[1;31mUnboundLocalError\u001b[0m                         Traceback (most recent call last)",
      "\u001b[1;32m<ipython-input-14-eb68b0a5f45d>\u001b[0m in \u001b[0;36m<module>\u001b[1;34m\u001b[0m\n\u001b[0;32m      1\u001b[0m \u001b[0mexecutable_path\u001b[0m \u001b[1;33m=\u001b[0m \u001b[1;33m{\u001b[0m\u001b[1;34m'executable_path'\u001b[0m\u001b[1;33m:\u001b[0m \u001b[1;34m'/usr/local/bin/chromedriver'\u001b[0m\u001b[1;33m}\u001b[0m\u001b[1;33m\u001b[0m\u001b[1;33m\u001b[0m\u001b[0m\n\u001b[1;32m----> 2\u001b[1;33m \u001b[0mbrowser\u001b[0m \u001b[1;33m=\u001b[0m \u001b[0mBrowser\u001b[0m\u001b[1;33m(\u001b[0m\u001b[1;34m'chrome'\u001b[0m\u001b[1;33m,\u001b[0m \u001b[1;33m**\u001b[0m\u001b[0mexecutable_path\u001b[0m\u001b[1;33m,\u001b[0m \u001b[0mheadless\u001b[0m\u001b[1;33m=\u001b[0m\u001b[1;32mFalse\u001b[0m\u001b[1;33m)\u001b[0m\u001b[1;33m\u001b[0m\u001b[1;33m\u001b[0m\u001b[0m\n\u001b[0m",
      "\u001b[1;32m~\\Documents\\Conda\\lib\\site-packages\\splinter\\browser.py\u001b[0m in \u001b[0;36mBrowser\u001b[1;34m(driver_name, retry_count, *args, **kwargs)\u001b[0m\n\u001b[0;32m     88\u001b[0m         \u001b[1;32mraise\u001b[0m \u001b[0mDriverNotFoundError\u001b[0m\u001b[1;33m(\u001b[0m\u001b[1;34m\"No driver for %s\"\u001b[0m \u001b[1;33m%\u001b[0m \u001b[0mdriver_name\u001b[0m\u001b[1;33m)\u001b[0m\u001b[1;33m\u001b[0m\u001b[1;33m\u001b[0m\u001b[0m\n\u001b[0;32m     89\u001b[0m \u001b[1;33m\u001b[0m\u001b[0m\n\u001b[1;32m---> 90\u001b[1;33m     \u001b[1;32mreturn\u001b[0m \u001b[0mget_driver\u001b[0m\u001b[1;33m(\u001b[0m\u001b[0mdriver\u001b[0m\u001b[1;33m,\u001b[0m \u001b[1;33m*\u001b[0m\u001b[0margs\u001b[0m\u001b[1;33m,\u001b[0m \u001b[1;33m**\u001b[0m\u001b[0mkwargs\u001b[0m\u001b[1;33m)\u001b[0m\u001b[1;33m\u001b[0m\u001b[1;33m\u001b[0m\u001b[0m\n\u001b[0m",
      "\u001b[1;32m~\\Documents\\Conda\\lib\\site-packages\\splinter\\browser.py\u001b[0m in \u001b[0;36mget_driver\u001b[1;34m(driver, retry_count, *args, **kwargs)\u001b[0m\n\u001b[0;32m     66\u001b[0m             \u001b[1;32mpass\u001b[0m\u001b[1;33m\u001b[0m\u001b[1;33m\u001b[0m\u001b[0m\n\u001b[0;32m     67\u001b[0m \u001b[1;33m\u001b[0m\u001b[0m\n\u001b[1;32m---> 68\u001b[1;33m     \u001b[1;32mraise\u001b[0m \u001b[0me\u001b[0m\u001b[1;33m\u001b[0m\u001b[1;33m\u001b[0m\u001b[0m\n\u001b[0m\u001b[0;32m     69\u001b[0m \u001b[1;33m\u001b[0m\u001b[0m\n\u001b[0;32m     70\u001b[0m \u001b[1;33m\u001b[0m\u001b[0m\n",
      "\u001b[1;31mUnboundLocalError\u001b[0m: local variable 'e' referenced before assignment"
     ]
    }
   ],
   "source": [
    "executable_path = {'executable_path': '/usr/local/bin/chromedriver'}\n",
    "browser = Browser('chrome', **executable_path, headless=False)"
   ]
  },
  {
   "cell_type": "code",
   "execution_count": null,
   "metadata": {},
   "outputs": [],
   "source": [
    "nasa_news_url = \"https://mars.nasa.gov/news/\"\n",
    "browser.visit(nasa_news_url)\n",
    "\n",
    "time.sleep(5)\n",
    "html = browser.html\n",
    "soup = BeautifulSoup(html, \"html.parser\")"
   ]
  },
  {
   "cell_type": "code",
   "execution_count": null,
   "metadata": {},
   "outputs": [],
   "source": [
    "news = soup.find(\"div\", class_='list_text')\n",
    "news_title = news.find(\"div\", class_=\"content_title\").text\n",
    "news_p = news.find(\"div\", class_ =\"article_teaser_body\").text\n",
    "print(news_title)\n",
    "print(news_p)"
   ]
  },
  {
   "cell_type": "code",
   "execution_count": null,
   "metadata": {},
   "outputs": [],
   "source": [
    "jpl_image_url = \"https://www.jpl.nasa.gov/spaceimages/?search=&category=Mars\"\n",
    "browser.visit(jpl_image_url)\n",
    "time.sleep(5)\n",
    "\n",
    "\n",
    "browser.click_link_by_id(\"full_image\")\n",
    "time.sleep(5)\n",
    "\n",
    "browser.click_link_by_partial_text('more info')\n",
    "time.sleep(5)\n",
    "\n",
    "jpl_image_html = browser.html\n",
    "jpl_image_soup = BeautifulSoup(jpl_image_html, 'html.parser')"
   ]
  },
  {
   "cell_type": "code",
   "execution_count": null,
   "metadata": {},
   "outputs": [],
   "source": [
    "featured_image_urls = jpl_image_soup.find_all(\"div\", class_=\"download_tiff\")\n",
    "jpl_jpg_image = featured_image_urls[1].a.get('href')\n",
    "print(\"https:\" + jpl_jpg_image)"
   ]
  },
  {
   "cell_type": "code",
   "execution_count": null,
   "metadata": {},
   "outputs": [],
   "source": [
    "mars_weather_url = \"https://twitter.com/marswxreport?lang=en\"\n",
    "browser.visit(mars_weather_url)\n",
    "time.sleep(5)\n",
    "\n",
    "mars_weather_html = browser.html\n",
    "mars_weather_soup = BeautifulSoup(mars_weather_html, 'html.parser')"
   ]
  },
  {
   "cell_type": "code",
   "execution_count": null,
   "metadata": {},
   "outputs": [],
   "source": [
    "mars_weather_posts = mars_weather_soup.find_all(\"span\", class_=\"css-901oao css-16my406 r-1qd0xha r-ad9z0x r-bcqeeo r-qvutc0\")\n",
    "for post in mars_weather_posts:\n",
    "    if \"InSight sol\" in post.text:\n",
    "        mars_weather =post.text\n",
    "        break\n",
    "print(mars_weather)"
   ]
  },
  {
   "cell_type": "code",
   "execution_count": null,
   "metadata": {},
   "outputs": [],
   "source": [
    "mars_facts_url = \"https://space-facts.com/mars/\"\n",
    "mars_facts_df = pd.read_html(mars_facts_url, match=\"Equatorial Diameter\")\n",
    "mars_facts_df[0].to_html('mars_facts.html', header=False, index=False)"
   ]
  },
  {
   "cell_type": "code",
   "execution_count": null,
   "metadata": {},
   "outputs": [],
   "source": [
    "hemi_main_link = \"https://astrogeology.usgs.gov/search/results?q=hemisphere+enhanced&k1=target&v1=Mars\"\n",
    "browser.visit(hemi_main_link)\n",
    "time.sleep(5)\n",
    "\n",
    "hemi_main_html = browser.html\n",
    "hemi_main_soup = BeautifulSoup(hemi_main_html, 'html.parser')"
   ]
  },
  {
   "cell_type": "code",
   "execution_count": null,
   "metadata": {},
   "outputs": [],
   "source": [
    "hemi_urls = hemi_main_soup.find_all(\"div\", class_=\"description\")\n",
    "\n",
    "hemisphere_image_urls = []\n",
    "\n",
    "for hemi in hemi_urls:\n",
    "    browser.visit(\"https://astrogeology.usgs.gov\" + hemi.a.get('href'))\n",
    "    time.sleep(5)\n",
    "    \n",
    "    hemi_html = browser.html\n",
    "    hemi_soup = BeautifulSoup(hemi_html, 'html.parser')\n",
    "    \n",
    "    for link in hemi_soup.find_all('a'):\n",
    "        if link.text == \"Original\":\n",
    "            hemisphere_image_urls.append({\"title\" : re.search(\"(.*) Enhanced\",hemi_soup.find(\"h2\", class_=\"title\").text)[1], \"img_url\" : link.get('href')})\n",
    "            break\n",
    "\n",
    "print(hemisphere_image_urls)"
   ]
  }
 ]
}